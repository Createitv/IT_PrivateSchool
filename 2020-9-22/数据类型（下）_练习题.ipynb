{
 "cells": [
  {
   "cell_type": "markdown",
   "metadata": {},
   "source": [
    "1.写一个代码片段统计一个字符串中出现的字符及其个数。（至少2种方式：分别使用列表和字典来实现）\n",
    "\n",
    "> 例如对于字符串“abcaaabcd”，统计的结果是：a（4个）b（2个）c（2个）d（1个）"
   ]
  },
  {
   "cell_type": "code",
   "execution_count": 1,
   "metadata": {},
   "outputs": [
    {
     "name": "stdout",
     "output_type": "stream",
     "text": [
      "Counter({'a': 4, 'b': 2, 'c': 2, 'd': 1})\n"
     ]
    }
   ],
   "source": [
    "# 函数\n",
    "from collections import Counter\n",
    "def statistical_letter(doc_string):\n",
    "    print(Counter(doc_string))\n",
    "statistical_letter('abcaaabcd')"
   ]
  },
  {
   "cell_type": "code",
   "execution_count": 7,
   "metadata": {},
   "outputs": [
    {
     "name": "stdout",
     "output_type": "stream",
     "text": [
      "{'c': 2, 'd': 1, 'b': 2, 'a': 4}\n"
     ]
    }
   ],
   "source": [
    "# 字典\n",
    "def statistical_letter(string):\n",
    "    dic = {a:string.count(a) for a in set(string)}\n",
    "    print(dic)\n",
    "statistical_letter('abcaaabcd')"
   ]
  },
  {
   "cell_type": "code",
   "execution_count": 9,
   "metadata": {},
   "outputs": [
    {
     "name": "stdout",
     "output_type": "stream",
     "text": [
      "a:4\n",
      "b:2\n",
      "c:2\n",
      "d:1\n"
     ]
    }
   ],
   "source": [
    "# 列表\n",
    "def statistical_letter(aStr):\n",
    "    aList = []\n",
    "    i = 0\n",
    "    while i < len(aStr):\n",
    "        if aStr[i] not in aList and aStr[i] != \" \":\n",
    "            print(\"%s:%d\" % (aStr[i], aStr.count(aStr[i])))\n",
    "            aList.append(aStr[i])\n",
    "        i += 1\n",
    "\n",
    "statistical_letter('abcaaabcd')"
   ]
  },
  {
   "cell_type": "markdown",
   "metadata": {},
   "source": [
    "2.循环提示用户输入，并将输入内容追加到列表中（如果输入N或n则停止循环），输入结束打印列表\n",
    "\n",
    "如果用户输入的信息已经存在，则提示用户所输内容已存在，不再重复添加。\n",
    "\n",
    "> 提示：对于输入内容，需要考虑大小写和空格的情况"
   ]
  },
  {
   "cell_type": "code",
   "execution_count": null,
   "metadata": {},
   "outputs": [],
   "source": [
    "lst = []\n",
    "while True:\n",
    "    doc_string = input(\"将输入的内容追加到列表,输入N或n则退出\")\n",
    "    doc_string = doc_string.lower()\n",
    "    print(doc_string)    \n",
    "    if doc_string in ('N', 'n'):\n",
    "        break\n",
    "    elif doc_string in lst:\n",
    "        print(\"输入内容已存在\")\n",
    "    else:\n",
    "        lst.append(doc_string)\n",
    "print(lst) "
   ]
  },
  {
   "cell_type": "markdown",
   "metadata": {},
   "source": [
    "3.有如下值 li= [11,22,33,44,55,66,77,88,99,90] ,将所有大于 66 的值保存至字典的第一个key对应的列表中，将小于 66 的值保存至第二个key对应的列表中。打印输出result。\n",
    "\n",
    "> result = {'k1':[],'k2':[]}"
   ]
  },
  {
   "cell_type": "code",
   "execution_count": 2,
   "metadata": {},
   "outputs": [
    {
     "name": "stdout",
     "output_type": "stream",
     "text": [
      "{'k2': [11, 22, 33, 44, 55], 'k1': [77, 88, 99, 90]}\n"
     ]
    }
   ],
   "source": [
    "li= [11,22,33,44,55,66,77,88,99,90]\n",
    "result = {}\n",
    "for value in li:\n",
    "    if value > 66:\n",
    "        result.setdefault('k1',[]).append(value)\n",
    "    elif value < 66:\n",
    "        result.setdefault('k2',[]).append(value)\n",
    "print(result)\n",
    "        "
   ]
  },
  {
   "cell_type": "markdown",
   "metadata": {},
   "source": [
    "4.经理：[曹操,刘备,孙权]。 技术员：[曹操,刘备,张飞,关羽]。\n",
    "\n",
    "  使用两个列表分别存储经理与技术员。\n",
    "\n",
    "  使用集合计算：\n",
    "\n",
    "（1） 即是经理也是技术员的有谁？\n",
    "\n",
    "（2） 是经理，但不是技术员都有谁？\n",
    "\n",
    "（3） 是技术员，但不是经理都有谁？\n",
    "\n",
    "（4）张飞是经理吗？\n",
    "\n",
    "（5） 身兼一职的都有谁？\n",
    "\n",
    "（6） 经理和技术员共有几个人？"
   ]
  },
  {
   "cell_type": "code",
   "execution_count": 3,
   "metadata": {},
   "outputs": [
    {
     "name": "stdout",
     "output_type": "stream",
     "text": [
      "即是经理也是技术员的有{'刘备', '曹操'}\n",
      "是经理，但不是技术员都有{'孙权'}\n",
      "是技术员，但不是经理都有{'张飞', '关羽'}\n",
      "张飞不是经理\n",
      "身兼一职的都有{'孙权', '关羽', '张飞'}\n",
      "经理和技术员共有5人，分别是{'孙权', '刘备', '张飞', '关羽', '曹操'}\n"
     ]
    }
   ],
   "source": [
    "manager = ['曹操','刘备','孙权']\n",
    "technician = ['曹操','刘备','张飞','关羽']\n",
    "\n",
    "# （1） 即是经理也是技术员的有谁？\n",
    "is_manager_and_technician = set(manager) & set(technician)\n",
    "print(f\"即是经理也是技术员的有{is_manager_and_technician}\")\n",
    "\n",
    "# （2） 是经理，但不是技术员都有谁？\n",
    "is_manager_not_technician = set(manager) - set(technician)\n",
    "print(f\"是经理，但不是技术员都有{is_manager_not_technician}\")\n",
    "\n",
    "# (3） 是技术员，但不是经理都有谁？\n",
    "not_manager_is_technician = set(technician) - set(manager)\n",
    "print(f\"是技术员，但不是经理都有{not_manager_is_technician}\")\n",
    "\n",
    "# （4）张飞是经理吗？\n",
    "flag = \"是\" if '张飞' in manager else \"不是\"\n",
    "print(f\"张飞{flag}经理\")\n",
    "\n",
    "# （5） 身兼一职的都有谁？\n",
    "only_one_identity = set(manager) ^ set(technician)\n",
    "print(f\"身兼一职的都有{only_one_identity}\")\n",
    "\n",
    "# （6） 经理和技术员共有几个人？\n",
    "result = set(manager) | set(technician) - is_manager_and_technician\n",
    "print(f\"经理和技术员共有{len(result)}人，分别是{result}\")\n"
   ]
  },
  {
   "cell_type": "markdown",
   "metadata": {},
   "source": [
    "【综合练习】\n",
    "\n",
    "现有商品列表如下：\n",
    "\n",
    "      　1.　products =  [[\"iphone\",6888],[\"MacPro\",14800],[\"小米6\",2499],[\"Coffee\",31],[\"Book\",60],[\"Nike\",699]]，需打印出以下格式：\n",
    "\n",
    "```python\n",
    "------  商品列表 ------\n",
    "0  iphone    6888\n",
    "1  MacPro    14800\n",
    "2  小米6      2499\n",
    "3  Coffee    31\n",
    "4  Book      60\n",
    "5  Nike      699\n",
    "```\n",
    "\n",
    "\t2.\t提示用户输入预算，并在每次购买时查看余额是否充足。不足时，提示“余额不足”。\n",
    "\n",
    "   \t3.\t根据上面的products列表写一个循环，不断询问用户想买什么，用户选择一个商品编号，就把对应的商品添加到购物车里，最终用户输入q退出时，打印购买的商品列表。\n",
    "   \t4.\t购买结束时，输出全部购买产品的编码、名称、单价和数量，并在最后集中显示“总计”和“余额”"
   ]
  },
  {
   "cell_type": "code",
   "execution_count": 12,
   "metadata": {},
   "outputs": [
    {
     "name": "stdout",
     "output_type": "stream",
     "text": [
      "0 iphone 6888\n",
      "1 MacPro 14800\n",
      "2 小米6 2499\n",
      "3 Coffee 31\n",
      "4 Book 60\n",
      "5 Nike 699\n"
     ]
    }
   ],
   "source": [
    "#  第一题\n",
    "products =  [[\"iphone\",6888],\n",
    "             [\"MacPro\",14800],\n",
    "             [\"小米6\",2499],\n",
    "             [\"Coffee\",31],\n",
    "             [\"Book\",60],\n",
    "             [\"Nike\",699]]\n",
    "for i,x in enumerate(products):\n",
    "    print(i, x[0], x[1])"
   ]
  },
  {
   "cell_type": "code",
   "execution_count": 13,
   "metadata": {},
   "outputs": [
    {
     "name": "stdout",
     "output_type": "stream",
     "text": [
      "请输入你要买什么Coffee\n",
      "请输入您的预算400\n"
     ]
    }
   ],
   "source": [
    "# 第二题\n",
    "lst = [i[0] for i in (products)]\n",
    "product = input(\"请输入你要买什么\")\n",
    "assert product in lst,'请重新输入产品名称'\n",
    "budget = input(\"请输入您的预算\")\n",
    "dic = {i[0] : i[1] for i in (products)}\n",
    "if int(dic[product])> int(budget):\n",
    "    print(\"余额不足\")\n",
    "        \n",
    "    "
   ]
  },
  {
   "cell_type": "code",
   "execution_count": 7,
   "metadata": {},
   "outputs": [
    {
     "name": "stdout",
     "output_type": "stream",
     "text": [
      "------  商品列表 ------\n",
      "            0  iphone    6888\n",
      "            1  MacPro    14800\n",
      "            2  小米6      2499\n",
      "            3  Coffee    31\n",
      "            4  Book      60\n",
      "            5  Nike      699\n",
      "请输入商品编号0\n",
      "------  商品列表 ------\n",
      "            0  iphone    6888\n",
      "            1  MacPro    14800\n",
      "            2  小米6      2499\n",
      "            3  Coffee    31\n",
      "            4  Book      60\n",
      "            5  Nike      699\n",
      "请输入商品编号2\n",
      "------  商品列表 ------\n",
      "            0  iphone    6888\n",
      "            1  MacPro    14800\n",
      "            2  小米6      2499\n",
      "            3  Coffee    31\n",
      "            4  Book      60\n",
      "            5  Nike      699\n",
      "请输入商品编号3\n",
      "------  商品列表 ------\n",
      "            0  iphone    6888\n",
      "            1  MacPro    14800\n",
      "            2  小米6      2499\n",
      "            3  Coffee    31\n",
      "            4  Book      60\n",
      "            5  Nike      699\n",
      "请输入商品编号q\n",
      "购买的商品列表['iphone', '小米6', 'Coffee']\n"
     ]
    }
   ],
   "source": [
    "# 第三题\n",
    "products = [[\"iphone\", 6888],\n",
    "            [\"MacPro\", 14800],\n",
    "            [\"小米6\", 2499],\n",
    "            [\"Coffee\", 31],\n",
    "            [\"Book\", 60],\n",
    "            [\"Nike\", 699]]\n",
    "lst = []\n",
    "while True:\n",
    "    print('''------  商品列表 ------\n",
    "            0  iphone    6888\n",
    "            1  MacPro    14800\n",
    "            2  小米6      2499\n",
    "            3  Coffee    31\n",
    "            4  Book      60\n",
    "            5  Nike      699''')\n",
    "\n",
    "    number = input(\"请输入商品编号\")\n",
    "    if number == 'q':\n",
    "        break\n",
    "    else:\n",
    "        for i, x in enumerate(products):\n",
    "            if int(number) == i:\n",
    "                lst.append(x[0])\n",
    "print(f\"购买的商品列表{lst}\")"
   ]
  },
  {
   "cell_type": "code",
   "execution_count": null,
   "metadata": {},
   "outputs": [],
   "source": [
    "# 第四题(这一题回答的不是很好，功能没有完全实现，看到这个题目感觉适合用面向对象的思维来做，真正用到面向对象又感觉不太会。)\n",
    "str_doc = ('''\n",
    "------  商品列表 ------\n",
    "0  iphone    6888\n",
    "1  MacPro    14800\n",
    "2  小米6      2499\n",
    "3  Coffee    31\n",
    "4  Book      60\n",
    "5  Nike      699\n",
    "''')\n",
    "\n",
    "\n",
    "class Product(object):\n",
    "    dic = {\n",
    "        '0': ['iphone', 6888],\n",
    "        '1': ['MacPro', 14800],\n",
    "        '2': ['小米6', 2499],\n",
    "        '3': ['Coffee', 31],\n",
    "        '4': ['Book', 60],\n",
    "        '5': ['Nike', 699]\n",
    "    }\n",
    "\n",
    "    def __init__(self, number):\n",
    "        self.number = num\n",
    "\n",
    "    def __str__(self):\n",
    "        return str_doc\n",
    "\n",
    "    def calculate(self):\n",
    "        remain = budget - self.dic[self.number][1]\n",
    "        if remain < 0:\n",
    "            print(\"余额不足\")\n",
    "\n",
    "\n",
    "if __name__ == '__main__':\n",
    "    budget = int(input('请输入您的预算:'))\n",
    "    print(str_doc)\n",
    "\n",
    "    while True:\n",
    "        num = input(\"请选择您要购买的商品编码:\")\n",
    "        n = Product(num)\n",
    "        if num == 'q':\n",
    "            break\n",
    "        else:\n",
    "            print(n)\n",
    "            n.calculate()\n"
   ]
  }
 ],
 "metadata": {
  "kernelspec": {
   "display_name": "Python 3.6.5 64-bit ('forPygame': venv)",
   "language": "python",
   "name": "python36564bitforpygamevenv5381521801214188841d7e9ea7cda921"
  },
  "language_info": {
   "codemirror_mode": {
    "name": "ipython",
    "version": 3
   },
   "file_extension": ".py",
   "mimetype": "text/x-python",
   "name": "python",
   "nbconvert_exporter": "python",
   "pygments_lexer": "ipython3",
   "version": "3.6.5"
  },
  "toc": {
   "base_numbering": 1,
   "nav_menu": {},
   "number_sections": true,
   "sideBar": true,
   "skip_h1_title": false,
   "title_cell": "Table of Contents",
   "title_sidebar": "Contents",
   "toc_cell": false,
   "toc_position": {},
   "toc_section_display": true,
   "toc_window_display": false
  }
 },
 "nbformat": 4,
 "nbformat_minor": 4
}