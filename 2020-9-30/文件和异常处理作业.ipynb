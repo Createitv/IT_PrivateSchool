{
 "cells": [
  {
   "source": [
    "1.读取一个python源码文件，显示除了以#号开头的行以外的所有行。并打印输出#号开头的行数。"
   ],
   "cell_type": "markdown",
   "metadata": {}
  },
  {
   "cell_type": "code",
   "execution_count": 3,
   "metadata": {},
   "outputs": [
    {
     "output_type": "stream",
     "name": "stdout",
     "text": [
      "def getPoker():\nitem = ['红心', '草花', '黑桃', '方块']\nnumber = ['A', 2, 3, 4, 5, 6, 7, 8,'#', 9, 10, 'j', 'q', 'k']\n第4行是注释行\n第5行是注释行\nall_list = list(zip(number, item))\nprint(all_list)\ngetPoker()\n"
     ]
    }
   ],
   "source": [
    "filename = 'sample.py'\n",
    "with open(filename, encoding='utf-8') as f:\n",
    "    # for line in f.readlines():\n",
    "    #     if not line.startswith('#'):\n",
    "    #     if \"#\" not in line:\n",
    "    #         print(line)\n",
    "    #     else:\n",
    "    #         print('注释行',line)\n",
    "    for i, line in enumerate(f.readlines(), start=1):\n",
    "        line = line.strip()\n",
    "        if not line.startswith('#'):\n",
    "            print(line)\n",
    "        else:\n",
    "            print(f'第{i}行是注释行',)"
   ]
  },
  {
   "source": [
    "2.写一个加法计算器。提示用户输入两个数字，再将它们相加并打印结果。在用户输入的任何一个值不是数字时都捕获异常，并打印一条友好的错误消息。应用异常处理和循环语句，直到用户输入”N“结束程序。\n",
    "\n",
    "> 对编写的程序测试：先输入两个数字，再输入一些文本而不是数字。"
   ],
   "cell_type": "markdown",
   "metadata": {}
  },
  {
   "cell_type": "code",
   "execution_count": null,
   "metadata": {},
   "outputs": [],
   "source": [
    "print(\"Enter 'N' to quit\\n\")\n",
    "while True:\n",
    "    try:\n",
    "        x = input('Pleast enter a number>>>')\n",
    "        if x == 'N':\n",
    "            break\n",
    "        x = float(x)\n",
    "        y = input('Pleast enter another number>>>')\n",
    "        if y == 'N':\n",
    "            break\n",
    "        y = float(y)\n",
    "    except ValueError:\n",
    "        print('Please enter a number, not letter')\n",
    "    else:\n",
    "        sum = x+y\n",
    "        print('The sum of these number is '+str(sum))\n",
    "        flag = input('Do you want to continue?y/n>>>')\n",
    "        if flag == 'N':\n",
    "            break"
   ]
  },
  {
   "source": [
    "3.有文件 t1.txt 里面的内容为\n",
    "\n",
    ">   1,吴彦祖,22,13812346543,警察\n",
    ">\n",
    ">   2,金城武,23,13698763214,学生\n",
    ">\n",
    ">   3,彭于晏,18,13565478921,运动员\n",
    "\n",
    "\n",
    "\n",
    "利用文件操作，将其构造成如下数据类型。输出到文件t2.txt中。\n",
    "\n",
    "[\n",
    "\n",
    "​    {'id':'1','name':'吴彦祖','age':'22','phone':'13812346543','job':'警察'},\n",
    "\n",
    "​    {'id':'2','name':'金城武','age':'23','phone':'13698763214','job':'学生'},\n",
    "\n",
    "​    ... ...\n",
    "\n",
    "]\n",
    "\n"
   ],
   "cell_type": "markdown",
   "metadata": {}
  },
  {
   "cell_type": "code",
   "execution_count": 36,
   "metadata": {},
   "outputs": [
    {
     "output_type": "stream",
     "name": "stdout",
     "text": [
      "[{'id': ' 1', 'name': '吴彦祖', 'age': '22', 'phone': '13812346543', 'job': '警察\\n'}, {'id': ' 2', 'name': '金城武', 'age': '23', 'phone': '13698763214', 'job': '学生\\n'}, {'id': ' 3', 'name': '彭于晏', 'age': '18', 'phone': '13565478921', 'job': '运动员\\n'}]\n"
     ]
    }
   ],
   "source": [
    "with open('t1.txt', 'r', encoding='utf-8') as f:\n",
    "    lst = []\n",
    "    for line in f.readlines():\n",
    "        new_line = [str(x) for x in line.split(',')]\n",
    "        if new_line != ['\\n']:\n",
    "            dic = {}\n",
    "            dic['id'], dic['name'], dic['age'] ,dic['phone'],dic['job'] = new_line\n",
    "            lst.append(dic)\n",
    "    print(lst)"
   ]
  },
  {
   "cell_type": "code",
   "execution_count": null,
   "metadata": {},
   "outputs": [],
   "source": []
  }
 ],
 "metadata": {
  "kernelspec": {
   "display_name": "Python 3.6.5 64-bit",
   "language": "python",
   "name": "python36564bit05bf682d06494da3a9646a971b8e2bf7"
  },
  "language_info": {
   "codemirror_mode": {
    "name": "ipython",
    "version": 3
   },
   "file_extension": ".py",
   "mimetype": "text/x-python",
   "name": "python",
   "nbconvert_exporter": "python",
   "pygments_lexer": "ipython3",
   "version": "3.6.5-final"
  },
  "toc": {
   "base_numbering": 1,
   "nav_menu": {},
   "number_sections": true,
   "sideBar": true,
   "skip_h1_title": false,
   "title_cell": "Table of Contents",
   "title_sidebar": "Contents",
   "toc_cell": false,
   "toc_position": {},
   "toc_section_display": true,
   "toc_window_display": false
  }
 },
 "nbformat": 4,
 "nbformat_minor": 4
}