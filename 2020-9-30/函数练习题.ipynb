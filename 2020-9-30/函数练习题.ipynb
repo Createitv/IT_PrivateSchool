{
 "cells": [
  {
   "cell_type": "markdown",
   "metadata": {},
   "source": [
    "1.定义函数  moreThan(num)，判断输入的数字是否大于1500，打印输出\"大于1500\"或\"不大于1500\""
   ]
  },
  {
   "cell_type": "code",
   "execution_count": 4,
   "metadata": {},
   "outputs": [
    {
     "name": "stdout",
     "output_type": "stream",
     "text": [
      "不大于1500\n"
     ]
    }
   ],
   "source": [
    "def moreThan(num):\n",
    "    if num > 1500:\n",
    "        print(\"大于1500\")\n",
    "    else:\n",
    "        print(\"不大于1500\")\n",
    "moreThan(1300)"
   ]
  },
  {
   "cell_type": "markdown",
   "metadata": {},
   "source": [
    "4.定义函数 generateNum( ) 返回从0~9的十个数字中随机取出4个不重复的数字组成一个字符串"
   ]
  },
  {
   "cell_type": "code",
   "execution_count": 10,
   "metadata": {},
   "outputs": [
    {
     "name": "stdout",
     "output_type": "stream",
     "text": [
      "4043\n"
     ]
    }
   ],
   "source": [
    "import random\n",
    "def generateNum():\n",
    "    lst = [str(random.randint(0, 9)) for i in range(4)]    \n",
    "    return \"\".join(lst)\n",
    "print(generateNum())"
   ]
  },
  {
   "cell_type": "markdown",
   "metadata": {},
   "source": [
    "7.定义函数 getType，参数为容器类型数据,打印所有奇数位索引对应的元素"
   ]
  },
  {
   "cell_type": "code",
   "execution_count": 12,
   "metadata": {},
   "outputs": [
    {
     "name": "stdout",
     "output_type": "stream",
     "text": [
      "<class 'str'>\n",
      "<class 'str'>\n",
      "<class 'int'>\n",
      "<class 'tuple'>\n"
     ]
    }
   ],
   "source": [
    "def getType(lst):\n",
    "    for i,j in enumerate(lst):\n",
    "        if i % 2 == 1:\n",
    "            print(type(j))\n",
    "seasons = ['Spring', 'Summer', 'Fall', 'Winter',3 ,5 ,{\"user_id\":\"show\"}, (3, 4)]\n",
    "getType(seasons)"
   ]
  },
  {
   "cell_type": "code",
   "execution_count": null,
   "metadata": {},
   "outputs": [],
   "source": []
  }
 ],
 "metadata": {
  "kernelspec": {
   "display_name": "Python 3.6.5 64-bit",
   "language": "python",
   "name": "python36564bit05bf682d06494da3a9646a971b8e2bf7"
  },
  "language_info": {
   "codemirror_mode": {
    "name": "ipython",
    "version": 3
   },
   "file_extension": ".py",
   "mimetype": "text/x-python",
   "name": "python",
   "nbconvert_exporter": "python",
   "pygments_lexer": "ipython3",
   "version": "3.6.5"
  },
  "toc": {
   "base_numbering": 1,
   "nav_menu": {},
   "number_sections": true,
   "sideBar": true,
   "skip_h1_title": false,
   "title_cell": "Table of Contents",
   "title_sidebar": "Contents",
   "toc_cell": false,
   "toc_position": {},
   "toc_section_display": true,
   "toc_window_display": false
  }
 },
 "nbformat": 4,
 "nbformat_minor": 4
}
