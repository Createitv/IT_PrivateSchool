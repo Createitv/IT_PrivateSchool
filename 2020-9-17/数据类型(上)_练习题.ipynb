{
 "cells": [
  {
   "cell_type": "markdown",
   "metadata": {},
   "source": [
    "1.实现一个整数加法计算器（多个数相加）：\n",
    "\n",
    "如：content = input(\"请输入内容:\") 用户输入：5+9+6 +12+ 13，然后进行分割再进行计算。"
   ]
  },
  {
   "cell_type": "code",
   "execution_count": 10,
   "metadata": {},
   "outputs": [
    {
     "name": "stdout",
     "output_type": "stream",
     "text": [
      "请输入内容:3+3+32+21\n",
      "3+3+32+21=59\n"
     ]
    }
   ],
   "source": [
    "content = input(\"请输入内容:\")\n",
    "string = content.split('+')\n",
    "sum = 0\n",
    "for i in string:\n",
    "    sum += int(i)\n",
    "print(f\"{content}={sum}\")   "
   ]
  },
  {
   "cell_type": "markdown",
   "metadata": {},
   "source": [
    "2.计算用户输入的内容中有几个整数（以个位数为单位），并打印输出。\n",
    "\n",
    "> 如：content = input(\"请输入内容：\")   \n",
    ">\n",
    "> 如：fhdal234slfh98769fjdla\n",
    ">\n",
    "> 输出：8个数字：23498769"
   ]
  },
  {
   "cell_type": "code",
   "execution_count": 6,
   "metadata": {},
   "outputs": [
    {
     "name": "stdout",
     "output_type": "stream",
     "text": [
      "请输入内容231312dasfsd21312\n",
      "11个数字:23131221312\n"
     ]
    }
   ],
   "source": [
    "content = input(\"请输入内容\")\n",
    "string = ''\n",
    "count = 0\n",
    "for i in content:\n",
    "    if i.isdigit():\n",
    "        string += i\n",
    "        count += 1\n",
    "print(f\"{count}个数字:{string}\")"
   ]
  },
  {
   "cell_type": "markdown",
   "metadata": {},
   "source": [
    "3.查找列表wordlist 中的元素，移除每个元素的空格，并找出以\"A\"或者\"a\"开头，并以\"c\"结尾的所有元素，并添加到一个新列表中,最后循环打印这个新列表。\n",
    "\n",
    "wordlist =  [\"IT sishu\", \"alexC\", \"Ab C \", \"egon \", \" ticToc \", \" Angle \", \"  aqc\"]"
   ]
  },
  {
   "cell_type": "code",
   "execution_count": 14,
   "metadata": {},
   "outputs": [
    {
     "name": "stdout",
     "output_type": "stream",
     "text": [
      "['aqc']\n"
     ]
    }
   ],
   "source": [
    "wordlist = [\"IT sishu\", \"alexC\", \"Ab C \", \"egon \", \" ticToc \", \" Angle \", \" aqc\"]\n",
    "lst = []\n",
    "for i in wordlist:\n",
    "    i = i.replace(' ','')\n",
    "    if (i.startswith('A') or i.startswith('a')) and i.endswith(\"c\"):\n",
    "        lst.append(i)\n",
    "print(lst)"
   ]
  },
  {
   "cell_type": "markdown",
   "metadata": {},
   "source": [
    "4.循环打印列表中的每个元素，遇到列表则再循环打印出它里面的元素。\n",
    "\n",
    "wordlist = [1, 3, 4, \"sishu\", [\"aa\", \"bb\", \"cc\"], 5, \"it\"]\n",
    "\n",
    "> 输出：1,3,4,sishu,\n",
    ">\n",
    "> ​            aa,bb,cc,\n",
    ">\n",
    "> ​\t\t\t5,it,"
   ]
  },
  {
   "cell_type": "code",
   "execution_count": 28,
   "metadata": {},
   "outputs": [
    {
     "name": "stdout",
     "output_type": "stream",
     "text": [
      "1\n",
      "3\n",
      "4\n",
      "sishu\n",
      "aa\n",
      "bb\n",
      "cc\n",
      "5\n",
      "it\n"
     ]
    }
   ],
   "source": [
    "wordlist = [1, 3, 4, \"sishu\", [\"aa\", \"bb\", \"cc\"], 5, \"it\"]\n",
    "for i in wordlist:\n",
    "    if isinstance(i, list):\n",
    "        for j in i:\n",
    "            print(j)\n",
    "    else:\n",
    "        print(i)"
   ]
  },
  {
   "cell_type": "markdown",
   "metadata": {},
   "source": [
    "5.假设字符串中含有的字母及个数相同就算相等（例如：aba和aab相等），随便输入二组字符串，请编程比较他们看是否相等"
   ]
  },
  {
   "cell_type": "code",
   "execution_count": 31,
   "metadata": {},
   "outputs": [
    {
     "name": "stdout",
     "output_type": "stream",
     "text": [
      "第一组字符串aab\n",
      "第二组字符串baa\n",
      "Bingo\n"
     ]
    }
   ],
   "source": [
    "content_1 = input('第一组字符串')\n",
    "content_2 = input('第二组字符串')\n",
    "\n",
    "\n",
    "if len(content_1) == len(content_2) and list(content_1).sort()==list(content_2).sort():\n",
    "    print(\"Bingo\")\n",
    "else:\n",
    "    print(\"Try another!\")"
   ]
  },
  {
   "cell_type": "markdown",
   "metadata": {},
   "source": [
    "6.从键盘输入字符串，回车后按单词反转\n",
    "\n",
    "> 例如输入：Where there is a way\n",
    ">\n",
    "> 输出：Way a is there where\n",
    "\n"
   ]
  },
  {
   "cell_type": "code",
   "execution_count": 53,
   "metadata": {},
   "outputs": [
    {
     "name": "stdout",
     "output_type": "stream",
     "text": [
      "请输入一段话Where there is a way\n",
      "way a is there Where "
     ]
    }
   ],
   "source": [
    "content = input(\"请输入一段话\")\n",
    "lst = content.split(' ')\n",
    "for i in reversed(lst):\n",
    "    print(i,end=' ')\n",
    "    "
   ]
  },
  {
   "cell_type": "markdown",
   "metadata": {},
   "source": [
    "7.判断一句话是否是回文. 回文: 正着念和反着念是一样的. \n",
    "\n",
    "> 例如, 上海自来水来自海上"
   ]
  },
  {
   "cell_type": "code",
   "execution_count": 59,
   "metadata": {},
   "outputs": [
    {
     "name": "stdout",
     "output_type": "stream",
     "text": [
      "True\n",
      "True\n",
      "True\n",
      "False\n"
     ]
    }
   ],
   "source": [
    "def palindrome(content):\n",
    "    if content == content[::-1]:\n",
    "        print(\"True\")\n",
    "    else:\n",
    "        print('False')\n",
    "content = '上海自来水来自海上'\n",
    "content2 = '静泉山上山泉静'\n",
    "content3 = '天连水尾水连天'\n",
    "content4 = '我亲爱的祖国'\n",
    "palindrome(content)\n",
    "palindrome(content2)\n",
    "palindrome(content3)\n",
    "palindrome(content4)"
   ]
  },
  {
   "cell_type": "markdown",
   "metadata": {},
   "source": [
    "【扩展】\n",
    "\n",
    "设计一个算法，判断列表中是否具有相同元素。（方法不止一种，看你能写出几种）\n",
    "\n",
    "​    [1,4,7,5,1,9,8]"
   ]
  },
  {
   "cell_type": "code",
   "execution_count": 66,
   "metadata": {},
   "outputs": [
    {
     "name": "stdout",
     "output_type": "stream",
     "text": [
      "1出现了3次\n",
      "1出现了3次\n",
      "9出现了2次\n",
      "9出现了2次\n",
      "1出现了3次\n"
     ]
    }
   ],
   "source": [
    "# 方法一：字符串操作\n",
    "lst = [1,4,7,5,1,9,8,9,10,1]\n",
    "for i in lst:\n",
    "    if lst.count(i) != 1:\n",
    "        print(f\"{i}出现了{lst.count(i)}次\")"
   ]
  },
  {
   "cell_type": "code",
   "execution_count": 67,
   "metadata": {},
   "outputs": [
    {
     "name": "stdout",
     "output_type": "stream",
     "text": [
      "Counter({1: 3, 9: 2, 4: 1, 7: 1, 5: 1, 8: 1, 10: 1})\n"
     ]
    }
   ],
   "source": [
    "# 方法二：库函数\n",
    "rom collections import Counter\n",
    "a = Counter(lst)\n",
    "print(a)"
   ]
  },
  {
   "cell_type": "code",
   "execution_count": 73,
   "metadata": {},
   "outputs": [
    {
     "name": "stdout",
     "output_type": "stream",
     "text": [
      "[(1, 3), (4, 1), (5, 1), (7, 1), (8, 1), (9, 2), (10, 1)]\n"
     ]
    }
   ],
   "source": [
    "# 方法三：集合\n",
    "count_set = set(lst)\n",
    "count_list = []\n",
    "for item in count_set:\n",
    "    count_list.append((item,lst.count(item)))\n",
    "print(count_list)"
   ]
  },
  {
   "cell_type": "code",
   "execution_count": null,
   "metadata": {},
   "outputs": [],
   "source": []
  }
 ],
 "metadata": {
  "kernelspec": {
   "display_name": "Python 3.6.5 64-bit",
   "language": "python",
   "name": "python36564bit05bf682d06494da3a9646a971b8e2bf7"
  },
  "language_info": {
   "codemirror_mode": {
    "name": "ipython",
    "version": 3
   },
   "file_extension": ".py",
   "mimetype": "text/x-python",
   "name": "python",
   "nbconvert_exporter": "python",
   "pygments_lexer": "ipython3",
   "version": "3.6.5"
  },
  "toc": {
   "base_numbering": 1,
   "nav_menu": {},
   "number_sections": true,
   "sideBar": true,
   "skip_h1_title": false,
   "title_cell": "Table of Contents",
   "title_sidebar": "Contents",
   "toc_cell": false,
   "toc_position": {},
   "toc_section_display": true,
   "toc_window_display": false
  }
 },
 "nbformat": 4,
 "nbformat_minor": 4
}
