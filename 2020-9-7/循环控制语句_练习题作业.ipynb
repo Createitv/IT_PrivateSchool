{
 "cells": [
  {
   "cell_type": "markdown",
   "metadata": {},
   "source": [
    "1.求1-100的所有数的和  \t\t\t（for循环基本概念）"
   ]
  },
  {
   "cell_type": "code",
   "execution_count": null,
   "metadata": {},
   "outputs": [],
   "source": [
    "sum = 0\n",
    "for i in range(1, 101):\n",
    "    sum += i\n",
    "print(sum)"
   ]
  },
  {
   "cell_type": "markdown",
   "metadata": {},
   "source": [
    "2.输出1-100内所有的奇数/偶数\t（循环+条件语句）"
   ]
  },
  {
   "cell_type": "code",
   "execution_count": null,
   "metadata": {},
   "outputs": [],
   "source": [
    "# 打印偶数\n",
    "for i in range(1, 101):\n",
    "    if i % 2 == 0:\n",
    "        print(i)"
   ]
  },
  {
   "cell_type": "code",
   "execution_count": null,
   "metadata": {},
   "outputs": [],
   "source": [
    "# 打印寄数\n",
    "for i in range(1, 101):\n",
    "    if i % 2 != 0:\n",
    "        print(i)"
   ]
  },
  {
   "cell_type": "markdown",
   "metadata": {},
   "source": [
    "3.for循环打印金字塔\t"
   ]
  },
  {
   "cell_type": "code",
   "execution_count": null,
   "metadata": {},
   "outputs": [],
   "source": [
    "for i in range(1,6):\n",
    "    print(\"*\"*(2*i-1))     "
   ]
  },
  {
   "cell_type": "markdown",
   "metadata": {},
   "source": [
    "4.for循环打印99乘法表\t\t\t\t（双重循环）"
   ]
  },
  {
   "cell_type": "code",
   "execution_count": null,
   "metadata": {},
   "outputs": [],
   "source": [
    "for i in range(1,10):\n",
    "    for j in range(1, i+1):\n",
    "        print(f\"{i} * {j} = {i*j}\",end='  ')\n",
    "    print(\"\\n\")"
   ]
  },
  {
   "cell_type": "markdown",
   "metadata": {},
   "source": [
    "5.完成猜数字游戏：\t\t\t\t\t （break练习）"
   ]
  },
  {
   "cell_type": "code",
   "execution_count": null,
   "metadata": {},
   "outputs": [],
   "source": [
    "import random\n",
    "\n",
    "num = random.randint(1,100)\n",
    "for i in range(5):\n",
    "    guess_num = int(input(\"猜一个1到100以内的数字\"))\n",
    "    if guess_num > num:\n",
    "        print(\"大了\")\n",
    "    elif guess_num < num:\n",
    "        print(\"小了\")\n",
    "    else:\n",
    "        print(\"恭喜中奖\")\n",
    "        break"
   ]
  },
  {
   "cell_type": "markdown",
   "metadata": {},
   "source": [
    "6.请结合自身理解和背景，出一道循环嵌套知识题目，并自行解答。\n",
    "百鸡问题：一只公鸡5元，一只母鸡3元，1元可以买3只小鸡。刚好用200元，买100只鸡。请问可买公鸡、母鸡、小鸡各多少只？"
   ]
  },
  {
   "cell_type": "code",
   "execution_count": null,
   "metadata": {},
   "outputs": [],
   "source": [
    "for i in range(20):\n",
    "    for j in range(33):\n",
    "        k = 100 - i - j \n",
    "        if i * 5 + j * 3 + k == 200:\n",
    "#             print(i, j ,k)\n",
    "            print(f\"买公鸡{i}只,买母鸡{j}只,买小鸡{k}只\")"
   ]
  },
  {
   "cell_type": "markdown",
   "metadata": {},
   "source": [
    "【扩展练习】\n",
    "\n",
    "（1）猴子吃桃问题：猴子第一天摘下若干个桃子，当即吃了一半，还不瘾，又多吃了一个，第二天早上又将剩下的桃子吃掉一半，又多吃了一个。以后每天早上都吃了前一天剩下的一半零一个。到第10天早上想再吃时，见只剩下一个桃子了。求第一天共摘了多少。"
   ]
  },
  {
   "cell_type": "code",
   "execution_count": null,
   "metadata": {},
   "outputs": [],
   "source": [
    "def monkey(n):\n",
    "    b = 1\n",
    "    for _ in range(n-1):\n",
    "        b = (b + 1) * 2  \n",
    "    return b\n",
    "print(monkey(10))  # 1534个"
   ]
  },
  {
   "cell_type": "markdown",
   "metadata": {},
   "source": [
    "（3）有1、2、3、4个数字，能组成多少个互不相同且无重复数字的三位数？都是多少？"
   ]
  },
  {
   "cell_type": "code",
   "execution_count": null,
   "metadata": {},
   "outputs": [],
   "source": [
    "num_lst = [1, 2, 3, 4]\n",
    "count = 0\n",
    "for i in num_lst:\n",
    "    for j in num_lst:\n",
    "        for k in num_lst:\n",
    "            if i != j and i != k and j != k:\n",
    "                count += 1\n",
    "                print(i*100 + j * 10 + k)\n",
    "print(\"共计%d个\" % count)"
   ]
  },
  {
   "cell_type": "markdown",
   "metadata": {},
   "source": [
    "（7）打印出所有的“水仙花数”，所谓“水仙花数”是指一个三位数，其各位数字立方和等于该数本身。例如：153是一个“水仙花数”，因为153=1的三次方＋5的三次方＋3的三次方。"
   ]
  },
  {
   "cell_type": "code",
   "execution_count": null,
   "metadata": {},
   "outputs": [],
   "source": [
    "from math import pow\n",
    "for num in range(100,1000):\n",
    "    i, j, k = str(num)\n",
    "    if pow(int(i),3) + pow(int(j),3) + pow(int(k),3) == num:\n",
    "        print(num)"
   ]
  },
  {
   "cell_type": "markdown",
   "metadata": {},
   "source": [
    "8）用户登录需求：\n",
    "\n",
    "- 输入用户名和密码；\n",
    "\n",
    "- 判断用户名和密码是否正确（name=‘root’,passwd=‘123456’）,密码输入错误三次则会报错\n",
    "\n",
    "- 登录仅有三次机会，超过3次会报错"
   ]
  },
  {
   "cell_type": "code",
   "execution_count": null,
   "metadata": {},
   "outputs": [],
   "source": [
    "count = 0\n",
    "while True:\n",
    "    name = input(\"请输入用户名\")\n",
    "    password = input(\"请输入密码\") \n",
    "    if name.lower != 'root' or password != '123456':\n",
    "        print(\"账户或者密码错误\")\n",
    "        count += 1\n",
    "        if count >= 3:\n",
    "            raise Exception(\"Invalid password or name!\")"
   ]
  },
  {
   "cell_type": "markdown",
   "metadata": {},
   "source": [
    "（10）【递归练习】\n",
    "古典问题：有一对兔子，从出生后第3个月起每个月都生一对兔子，小兔子长到第三个月后每个月又生一对兔子，假如兔子都不死，问每个月的兔子总数为多少？"
   ]
  },
  {
   "cell_type": "code",
   "execution_count": 13,
   "metadata": {},
   "outputs": [
    {
     "name": "stdout",
     "output_type": "stream",
     "text": [
      "第1个月:1\n",
      "第2个月:1\n",
      "第3个月:2\n",
      "第4个月:3\n",
      "第5个月:5\n",
      "第6个月:8\n",
      "第7个月:13\n",
      "第8个月:21\n",
      "第9个月:34\n",
      "第10个月:55\n"
     ]
    }
   ],
   "source": [
    "\n",
    "def rabbit(num):\n",
    "    a=0\n",
    "    b=1\n",
    "    for i in range(num-1):\n",
    "        a,b=b,a+b\n",
    "    return b \n",
    "num = 10\n",
    "for i in range(1,num+1):\n",
    "    print(f\"第{i}个月:{rabbit(i)}\")\n"
   ]
  },
  {
   "cell_type": "code",
   "execution_count": null,
   "metadata": {},
   "outputs": [],
   "source": []
  }
 ],
 "metadata": {
  "kernelspec": {
   "display_name": "Python 3.6.5 64-bit",
   "language": "python",
   "name": "python36564bit05bf682d06494da3a9646a971b8e2bf7"
  },
  "toc": {
   "base_numbering": 1,
   "nav_menu": {},
   "number_sections": true,
   "sideBar": true,
   "skip_h1_title": false,
   "title_cell": "Table of Contents",
   "title_sidebar": "Contents",
   "toc_cell": false,
   "toc_position": {},
   "toc_section_display": true,
   "toc_window_display": false
  }
 },
 "nbformat": 4,
 "nbformat_minor": 4
}
