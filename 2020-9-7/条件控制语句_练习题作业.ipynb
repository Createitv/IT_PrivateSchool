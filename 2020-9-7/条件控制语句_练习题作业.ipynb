{
 "cells": [
  {
   "cell_type": "markdown",
   "metadata": {},
   "source": [
    "## 条件控制语句_练习题\n",
    "\n",
    "练习建议：\n",
    "\n",
    "​\t\t 做提前先仔细自考，想清楚流程，在编写代码。\n",
    "\n",
    "​\t     完成题目后，建议能够限定时间，挑战：在不借助视频和前期代码的情况下，一次性编写并运行出来。\n",
    "\n",
    "【达人、专业】\n",
    "\n",
    "1：\t\t\t\t\t（print语句）\n",
    "2-4：三选一 \t（if基本概念）\n",
    "5-7：三选一\t（多重条件判断）\n",
    "\n",
    "请结合自身理解和背景，出一道多重条件判断题目，并自行解答。\n",
    "\n",
    "\n",
    "\n",
    "【专业】\n",
    "\n",
    "8-9：二选一\t\t（逻辑训练）"
   ]
  },
  {
   "cell_type": "markdown",
   "metadata": {},
   "source": [
    "1.用print打印出下面内容: （试试有几种方法）\n",
    "\n",
    "​\t\t莫道谗言如浪深，\n",
    "​\t\t莫言迁客似沙沉。\t\n",
    "​\t\t千淘万漉虽辛苦，\n",
    "​\t\t吹尽狂沙始到金。"
   ]
  },
  {
   "cell_type": "code",
   "execution_count": 3,
   "metadata": {},
   "outputs": [
    {
     "name": "stdout",
     "output_type": "stream",
     "text": [
      "莫道谗言如浪深，\n",
      "莫言迁客似沙沉。\n",
      "千淘万漉虽辛苦，\n",
      "吹尽狂沙始到金。\n"
     ]
    }
   ],
   "source": [
    "print(\"莫道谗言如浪深，\")\n",
    "print(\"莫言迁客似沙沉。\")\n",
    "print(\"千淘万漉虽辛苦，\")\n",
    "print(\"吹尽狂沙始到金。\")"
   ]
  },
  {
   "cell_type": "code",
   "execution_count": 12,
   "metadata": {},
   "outputs": [
    {
     "name": "stdout",
     "output_type": "stream",
     "text": [
      "莫道谗言如浪深,\n",
      "莫言迁客似沙沉。\t\n",
      "千淘万漉虽辛苦，\n",
      "吹尽狂沙始到金。\n"
     ]
    }
   ],
   "source": [
    "print(\"\"\"莫道谗言如浪深,\n",
    "莫言迁客似沙沉。\t\n",
    "千淘万漉虽辛苦，\n",
    "吹尽狂沙始到金。\"\"\")"
   ]
  },
  {
   "cell_type": "code",
   "execution_count": 15,
   "metadata": {},
   "outputs": [
    {
     "name": "stdout",
     "output_type": "stream",
     "text": [
      "莫道谗言如浪深,\n",
      "莫言迁客似沙沉。\t\n",
      "千淘万漉虽辛苦，\n",
      "吹尽狂沙始到金。\n"
     ]
    }
   ],
   "source": [
    "string = \"\"\"莫道谗言如浪深,\n",
    "莫言迁客似沙沉。\t\n",
    "千淘万漉虽辛苦，\n",
    "吹尽狂沙始到金。\"\"\"\n",
    "print(string)"
   ]
  },
  {
   "cell_type": "markdown",
   "metadata": {},
   "source": [
    "2.利用if语句写出猜大小游戏：\n",
    "设定一个理想比如：68，让用户输入数字，若大于68，则显示\n",
    "猜测结果大了，若小于68，则显示猜测的结果小了，只有等于68，\n",
    "显示猜测结果正确。"
   ]
  },
  {
   "cell_type": "code",
   "execution_count": 16,
   "metadata": {},
   "outputs": [
    {
     "name": "stdout",
     "output_type": "stream",
     "text": [
      "请输入一个数字66\n",
      "猜小了\n"
     ]
    }
   ],
   "source": [
    "ideal_num = 68\n",
    "guess_name = int(input(\"请输入一个数字\"))\n",
    "if guess_name > ideal_num:\n",
    "    print(\"猜大了\")\n",
    "elif guess_name < ideal_num:\n",
    "    print(\"猜小了\")\n",
    "else:\n",
    "    print(\"猜对了\")"
   ]
  },
  {
   "cell_type": "markdown",
   "metadata": {},
   "source": [
    "7.用户输入一个月份，然后判断月份是多少月，根据不同的月份，打印该月份所属的季节。\n",
    "\n",
    "> 提示: 3,4,5 春季 6,7,8 夏季 9,10,11 秋季 12, 1, 2 冬季"
   ]
  },
  {
   "cell_type": "code",
   "execution_count": 23,
   "metadata": {},
   "outputs": [
    {
     "name": "stdout",
     "output_type": "stream",
     "text": [
      "请输入月份10\n",
      "10是秋天\n"
     ]
    }
   ],
   "source": [
    "month = int(input(\"请输入月份\"))\n",
    "spring = (3, 4, 5)\n",
    "summer = (6, 7, 8)\n",
    "autumn = (9, 10, 11)\n",
    "wintet = (12, 1, 2)\n",
    "if month in spring:\n",
    "    print(f\"{month}月是春天\")\n",
    "elif month in summer:\n",
    "    print(f\"{month}是月夏天\")\n",
    "elif month in autumn:\n",
    "    print(f\"{month}是月秋天\")\n",
    "elif month in summer:\n",
    "    print(f\"{winter}是月冬天\")"
   ]
  },
  {
   "cell_type": "code",
   "execution_count": null,
   "metadata": {},
   "outputs": [],
   "source": []
  },
  {
   "cell_type": "markdown",
   "metadata": {},
   "source": [
    "9.用户输入年份year, 判断是否为闰年?\n",
    "闰年的判断标准：year能被4整除但是不能被100整除，或者 year能被400整除, 那么就是闰年;"
   ]
  },
  {
   "cell_type": "code",
   "execution_count": 32,
   "metadata": {},
   "outputs": [
    {
     "name": "stdout",
     "output_type": "stream",
     "text": [
      "请输入年份year2000\n",
      "2000 是闰年\n"
     ]
    }
   ],
   "source": [
    "def leap_year(year):\n",
    "    if (year % 4 == 0 and year % 100 != 0) or (year % 400 == 0):\n",
    "        print(year, \"是闰年\")\n",
    "    else:\n",
    "        print(year, \"不是闰年\")\n",
    "year = int(input(\"请输入年份year\"))\n",
    "leap_year(year)\n",
    "\n",
    "\n"
   ]
  },
  {
   "cell_type": "markdown",
   "metadata": {},
   "source": [
    "8.输入年、月，输出本月有多少天。合理选择分支语句完成设计任务。\n",
    "\n",
    "> 输入样例1：2020 2\n",
    "> 输出结果1：本月29天\n",
    "> 输入样例2：2021 9\n",
    "> 输出结果2：本月30天"
   ]
  },
  {
   "cell_type": "code",
   "execution_count": 2,
   "metadata": {
    "tags": []
   },
   "outputs": [
    {
     "output_type": "stream",
     "name": "stdout",
     "text": "本月31天\n"
    }
   ],
   "source": [
    "def leap_year(year):\n",
    "    if (year % 4 == 0 and year % 100 != 0) or (year % 400 == 0):\n",
    "        return True\n",
    "    else:\n",
    "        return None\n",
    "days = [31,[28, 29], 31, 30, 31, 30, 31, 31, 30, 31 ,30, 31]\n",
    "year = int(input(\"请输入年份\"))\n",
    "month = int(input(\"请输入月份\"))\n",
    "if leap_year(year) and month == 2:\n",
    "    print(\"本月29天\")\n",
    "elif not leap_year(year):\n",
    "    print(f\"本月{days[month-1]}天\")"
   ]
  },
  {
   "cell_type": "markdown",
   "metadata": {},
   "source": [
    "请结合自身理解和背景，出一道多重条件判断题目，并自行解答。"
   ]
  },
  {
   "cell_type": "markdown",
   "metadata": {},
   "source": [
    "企业发放的奖金根据利润提成。利润(I)低于或等于10万元时，奖金可提10%；利润高于10万元，低于20万元时，低于10万元的部分按10%提成，高于10万元的部分，可提成7.5%；20万到40万之间时，高于20万元的部分，可提成5%；40万到60万之间时高于40万元的部分，可提成3%；60万到100万之间时，高于60万元的部分，可提成1.5%，高于100万元时，超过100万元的部分按1%提成，从键盘输入当月利润I，求应发放奖金总数？"
   ]
  },
  {
   "cell_type": "code",
   "execution_count": 39,
   "metadata": {},
   "outputs": [
    {
     "name": "stdout",
     "output_type": "stream",
     "text": [
      "请输入当月利润: 300000\n",
      "应发奖金13000.0元\n"
     ]
    }
   ],
   "source": [
    "margin = int(input('请输入当月利润: '))\n",
    "if margin <= 100000:\n",
    "    bonus = 0.1*margin\n",
    "    print ('应发奖金'+str(bonus)+'元')\n",
    "elif 100000 < margin <= 200000:\n",
    "    bonus = 0.1*100000+(margin-100000)*0.075\n",
    "    print ('应发奖金'+str(bonus)+'元')\n",
    "elif 200000 < margin <= 400000:\n",
    "    bonus = 0.05*200000+(margin-200000)*0.03\n",
    "    print ('应发奖金'+str(bonus)+'元')\n",
    "elif 600000 < margin <= 1000000:\n",
    "    bonus = 0.015*1000000+(margin-1000000)*0.01\n",
    "    print ('应发奖金'+str(bonus)+'元')\n",
    "else:\n",
    "    pass"
   ]
  },
  {
   "cell_type": "code",
   "execution_count": null,
   "metadata": {},
   "outputs": [],
   "source": []
  }
 ],
 "metadata": {
  "kernelspec": {
   "display_name": "Python 3.6.5 64-bit",
   "language": "python",
   "name": "python36564bit05bf682d06494da3a9646a971b8e2bf7"
  },
  "language_info": {
   "codemirror_mode": {
    "name": "ipython",
    "version": 3
   },
   "file_extension": ".py",
   "mimetype": "text/x-python",
   "name": "python",
   "nbconvert_exporter": "python",
   "pygments_lexer": "ipython3",
   "version": "3.6.5-final"
  },
  "toc": {
   "base_numbering": 1,
   "nav_menu": {},
   "number_sections": true,
   "sideBar": true,
   "skip_h1_title": false,
   "title_cell": "Table of Contents",
   "title_sidebar": "Contents",
   "toc_cell": false,
   "toc_position": {},
   "toc_section_display": true,
   "toc_window_display": false
  }
 },
 "nbformat": 4,
 "nbformat_minor": 4
}